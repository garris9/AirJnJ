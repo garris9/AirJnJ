{
 "cells": [
  {
   "cell_type": "code",
   "execution_count": 1,
   "metadata": {},
   "outputs": [],
   "source": [
    "import pandas as pd\n",
    "import numpy as np\n",
    "from sklearn.model_selection import train_test_split\n",
    "from sklearn.metrics import accuracy_score, confusion_matrix, RocCurveDisplay\n",
    "import xgboost as xgb\n",
    "from xgboost import XGBClassifier\n",
    "from xgboost import XGBRegressor\n",
    "from xgboost import plot_tree\n",
    "from matplotlib import pyplot as plt\n",
    "import seaborn as sns\n",
    "import plotly.express as px\n",
    "import plotly.graph_objects as go\n",
    "from plotly.subplots import make_subplots\n",
    "import random\n",
    "from geopy.geocoders import Nominatim\n",
    "import ast\n",
    "\n",
    "pd.set_option('display.max_columns', 100)"
   ]
  },
  {
   "cell_type": "code",
   "execution_count": 2,
   "metadata": {},
   "outputs": [
    {
     "name": "stderr",
     "output_type": "stream",
     "text": [
      "C:\\Users\\13073\\AppData\\Local\\Temp\\ipykernel_36372\\2505299675.py:1: DtypeWarning: Columns (5,13) have mixed types. Specify dtype option on import or set low_memory=False.\n",
      "  listings = pd.read_csv('./data/Listings.csv', encoding='ISO-8859-1')\n"
     ]
    }
   ],
   "source": [
    "listings = pd.read_csv('./data/Listings.csv', encoding='ISO-8859-1')\n",
    "reviews = pd.read_csv('./data/Reviews.csv', encoding='ISO-8859-1')\n",
    "si_df = pd.read_csv('./data/staten_island.csv')\n",
    "man_df = pd.read_csv('./data/manhatten.csv')\n",
    "bronx_df = pd.read_csv('./data/bronx.csv')\n",
    "queens_df = pd.read_csv('./data/queens.csv')\n",
    "brook_df = pd.read_csv('./data/brooklyn.csv')\n",
    "paris_df = pd.read_csv('./data/paris.csv')"
   ]
  },
  {
   "cell_type": "code",
   "execution_count": 3,
   "metadata": {},
   "outputs": [],
   "source": [
    "listings = listings[listings['city'].isin(['New York', 'Paris'])]\n",
    "# listings.info()       "
   ]
  },
  {
   "cell_type": "code",
   "execution_count": 4,
   "metadata": {},
   "outputs": [],
   "source": [
    "columns_to_drop = ['image_url','url','phone','display_phone']"
   ]
  },
  {
   "cell_type": "code",
   "execution_count": 5,
   "metadata": {},
   "outputs": [],
   "source": [
    "si_df = si_df.drop(columns_to_drop, axis =1)\n",
    "man_df = man_df.drop(columns_to_drop, axis =1)\n",
    "bronx_df = bronx_df.drop(columns_to_drop, axis =1)\n",
    "queens_df = queens_df.drop(columns_to_drop, axis =1)\n",
    "brook_df = brook_df.drop(columns_to_drop, axis =1)\n",
    "paris_df = paris_df.drop(columns_to_drop, axis =1)"
   ]
  },
  {
   "cell_type": "code",
   "execution_count": 6,
   "metadata": {},
   "outputs": [],
   "source": [
    "si_df.drop_duplicates(subset=['name', 'coordinates.latitude','coordinates.longitude'], inplace=True)\n",
    "man_df.drop_duplicates(subset=['name', 'coordinates.latitude','coordinates.longitude'], inplace=True)\n",
    "bronx_df.drop_duplicates(subset=['name', 'coordinates.latitude','coordinates.longitude'], inplace=True)\n",
    "queens_df.drop_duplicates(subset=['name', 'coordinates.latitude','coordinates.longitude'], inplace=True)\n",
    "brook_df.drop_duplicates(subset=['name', 'coordinates.latitude','coordinates.longitude'], inplace=True)\n",
    "paris_df.drop_duplicates(subset=['name', 'coordinates.latitude','coordinates.longitude'], inplace=True)"
   ]
  },
  {
   "cell_type": "code",
   "execution_count": 7,
   "metadata": {},
   "outputs": [],
   "source": [
    "all_categories=si_df['categories']\n",
    "all_categories_eval = all_categories.apply(ast.literal_eval)\n",
    "all_cates = all_categories_eval.apply(lambda x: ', '.join(category['title'] for category in x))"
   ]
  },
  {
   "cell_type": "code",
   "execution_count": 8,
   "metadata": {},
   "outputs": [],
   "source": [
    "si_df.categories = all_cates\n",
    "man_df.categories = all_cates\n",
    "brook_df.categories = all_cates\n",
    "bronx_df.categories = all_cates\n",
    "queens_df.categories = all_cates\n",
    "paris_df.categories = all_cates"
   ]
  },
  {
   "cell_type": "code",
   "execution_count": 9,
   "metadata": {},
   "outputs": [
    {
     "name": "stdout",
     "output_type": "stream",
     "text": [
      "False    466\n",
      "Name: categories, dtype: int64\n",
      "True     959\n",
      "False    206\n",
      "Name: categories, dtype: int64\n",
      "True     793\n",
      "False    258\n",
      "Name: categories, dtype: int64\n",
      "True     437\n",
      "False    188\n",
      "Name: categories, dtype: int64\n",
      "True     1225\n",
      "False     201\n",
      "Name: categories, dtype: int64\n",
      "True     588\n",
      "False    234\n",
      "Name: categories, dtype: int64\n"
     ]
    }
   ],
   "source": [
    "print(si_df['categories'].isna().value_counts())\n",
    "print(man_df['categories'].isna().value_counts())\n",
    "print(brook_df['categories'].isna().value_counts())\n",
    "print(bronx_df['categories'].isna().value_counts())\n",
    "print(queens_df['categories'].isna().value_counts())\n",
    "print(paris_df['categories'].isna().value_counts())"
   ]
  },
  {
   "cell_type": "code",
   "execution_count": 10,
   "metadata": {},
   "outputs": [],
   "source": [
    "all_cates_split = all_cates.str.split(',').str[0]"
   ]
  },
  {
   "cell_type": "code",
   "execution_count": 11,
   "metadata": {},
   "outputs": [],
   "source": [
    "si_df['First Listed Category'] = all_cates_split\n",
    "man_df['First Listed Category'] = all_cates_split\n",
    "brook_df['First Listed Category'] = all_cates_split\n",
    "bronx_df['First Listed Category'] = all_cates_split\n",
    "queens_df['First Listed Category'] = all_cates_split\n",
    "paris_df['First Listed Category'] = all_cates_split"
   ]
  },
  {
   "cell_type": "code",
   "execution_count": 12,
   "metadata": {},
   "outputs": [],
   "source": [
    "si_df = si_df.reset_index()\n",
    "man_df = man_df.reset_index()\n",
    "brook_df = brook_df.reset_index()\n",
    "bronx_df = bronx_df.reset_index()\n",
    "queens_df = queens_df.reset_index()\n",
    "paris_df = paris_df.reset_index()"
   ]
  },
  {
   "cell_type": "code",
   "execution_count": 13,
   "metadata": {},
   "outputs": [
    {
     "data": {
      "text/plain": [
       "536.9979906964345"
      ]
     },
     "execution_count": 13,
     "metadata": {},
     "output_type": "execute_result"
    }
   ],
   "source": [
    "from geopy.distance import great_circle\n",
    "newport_ri = (41.49008, -71.312796)\n",
    "cleveland_oh = (41.499498, -81.695391)\n",
    "great_circle(newport_ri, cleveland_oh).miles"
   ]
  },
  {
   "cell_type": "code",
   "execution_count": 14,
   "metadata": {},
   "outputs": [
    {
     "data": {
      "text/plain": [
       "Index(['index', 'Unnamed: 0', 'id', 'alias', 'name', 'is_closed',\n",
       "       'review_count', 'categories', 'rating', 'transactions', 'distance',\n",
       "       'coordinates.latitude', 'coordinates.longitude', 'location.address1',\n",
       "       'location.address2', 'location.address3', 'location.city',\n",
       "       'location.zip_code', 'location.country', 'location.state',\n",
       "       'location.display_address', 'price', 'total', 'region',\n",
       "       'Restaurant or Attraction?', 'First Listed Category'],\n",
       "      dtype='object')"
      ]
     },
     "execution_count": 14,
     "metadata": {},
     "output_type": "execute_result"
    }
   ],
   "source": [
    "si_df.columns"
   ]
  },
  {
   "cell_type": "code",
   "execution_count": 15,
   "metadata": {},
   "outputs": [],
   "source": [
    "def distance(lat,long,city,radius):\n",
    "    listing_coordinate = (lat,long)\n",
    "\n",
    "    df = pd.DataFrame()\n",
    "    if city == 'staten_island':\n",
    "        df = si_df\n",
    "    elif city == 'manhattan':\n",
    "        df = man_df\n",
    "    elif city == 'brooklyn':\n",
    "        df = brook_df\n",
    "    elif city == 'bronx':\n",
    "        df = bronx_df\n",
    "    elif city == 'queens':\n",
    "        df = queens_df\n",
    "    elif city == 'paris':\n",
    "        df = paris_df\n",
    "    else:\n",
    "        return None\n",
    "\n",
    "    df['In range?'] = df.apply(lambda x: great_circle(listing_coordinate, \n",
    "                                (x['coordinates.latitude'], x['coordinates.longitude']))\n",
    "                                .miles if pd.notnull(x['coordinates.latitude']) \n",
    "                                and pd.notnull(x['coordinates.longitude']) else np.nan, axis=1)\n",
    "    df = df[df['In range?'] < radius]\n",
    "\n",
    "    df = df[['name','rating','categories','First Listed Category','Restaurant or Attraction?', 'In range?']]\n",
    "    return df"
   ]
  },
  {
   "cell_type": "code",
   "execution_count": 84,
   "metadata": {},
   "outputs": [],
   "source": [
    "# test = distance(48.864516,2.345402,'paris',2)\n",
    "# print(test['rating'].value_counts(),test['First Listed Category'].value_counts(), test['Restaurant or Attraction?'].value_counts())"
   ]
  },
  {
   "cell_type": "code",
   "execution_count": 85,
   "metadata": {},
   "outputs": [],
   "source": [
    "# for i in range(10):\n",
    "#     temp = distance(listings.loc[i,'latitude'],listings.loc[i,'longitude'],'paris', 2)\n",
    "#     print(len(temp),temp['rating'].value_counts(),temp['First Listed Category'].value_counts(), temp['Restaurant or Attraction?'].value_counts(normalize=True))"
   ]
  },
  {
   "cell_type": "code",
   "execution_count": null,
   "metadata": {},
   "outputs": [],
   "source": [
    "ml_listings = listings.copy()\n",
    "# geos = ['bronx']\n",
    "geos = ['bronx', 'brooklyn', 'manhattan', 'queens', 'staten_island','paris']\n",
    "\n",
    "\n",
    "for geo in geos:\n",
    "    for i, row in ml_listings.iterrows():\n",
    "        if str(row['city']).lower().find(geo) != -1 or str(row['district']).lower().find(geo) != -1:\n",
    "            temp = distance(row['latitude'], row['longitude'], geo, 2)\n",
    "            ml_listings.at[i, '# w/in 2mi'] = len(temp)\n",
    "            ml_listings.at[i, 'Avg yelp rating'] = temp['rating'].mean() if not temp.empty else 0\n",
    "            ml_listings.at[i, '% Restaurants'] = temp['Restaurant or Attraction?'].value_counts(normalize=True).iloc[0] if not temp.empty else 0"
   ]
  },
  {
   "cell_type": "code",
   "execution_count": 29,
   "metadata": {},
   "outputs": [],
   "source": [
    "ml_listings[['listing_id','district','# w/in 2mi','Avg yelp rating','% Restaurants']]\n",
    "ml_listings.to_csv('ml_listings.csv', index=False)\n",
    "\n",
    "filtered_listings = ml_listings[(ml_listings['district'] == 'Bronx')| (ml_listings['district'] == 'Brooklyn')]\n",
    "display_columns = ['listing_id', 'district', '# w/in 2mi', 'Avg yelp rating', '% Restaurants']\n",
    "display_data = filtered_listings[display_columns]\n",
    "display_data"
   ]
  },
  {
   "cell_type": "code",
   "execution_count": null,
   "metadata": {},
   "outputs": [
    {
     "data": {
      "text/html": [
       "<div>\n",
       "<style scoped>\n",
       "    .dataframe tbody tr th:only-of-type {\n",
       "        vertical-align: middle;\n",
       "    }\n",
       "\n",
       "    .dataframe tbody tr th {\n",
       "        vertical-align: top;\n",
       "    }\n",
       "\n",
       "    .dataframe thead th {\n",
       "        text-align: right;\n",
       "    }\n",
       "</style>\n",
       "<table border=\"1\" class=\"dataframe\">\n",
       "  <thead>\n",
       "    <tr style=\"text-align: right;\">\n",
       "      <th></th>\n",
       "      <th>index</th>\n",
       "      <th>Unnamed: 0</th>\n",
       "      <th>id</th>\n",
       "      <th>alias</th>\n",
       "      <th>name</th>\n",
       "      <th>is_closed</th>\n",
       "      <th>review_count</th>\n",
       "      <th>categories</th>\n",
       "      <th>rating</th>\n",
       "      <th>transactions</th>\n",
       "      <th>price</th>\n",
       "      <th>distance</th>\n",
       "      <th>coordinates.latitude</th>\n",
       "      <th>coordinates.longitude</th>\n",
       "      <th>location.address1</th>\n",
       "      <th>location.address2</th>\n",
       "      <th>location.address3</th>\n",
       "      <th>location.city</th>\n",
       "      <th>location.zip_code</th>\n",
       "      <th>location.country</th>\n",
       "      <th>location.state</th>\n",
       "      <th>location.display_address</th>\n",
       "      <th>total</th>\n",
       "      <th>region</th>\n",
       "      <th>Restaurant or Attraction?</th>\n",
       "      <th>First Listed Category</th>\n",
       "      <th>In range?</th>\n",
       "    </tr>\n",
       "  </thead>\n",
       "  <tbody>\n",
       "    <tr>\n",
       "      <th>0</th>\n",
       "      <td>0</td>\n",
       "      <td>0</td>\n",
       "      <td>-0iLH7iQNYtoURciDpJf6w</td>\n",
       "      <td>le-comptoir-de-la-gastronomie-paris</td>\n",
       "      <td>Le Comptoir de la Gastronomie</td>\n",
       "      <td>False</td>\n",
       "      <td>1231</td>\n",
       "      <td>Hot Pot, Korean, Barbeque</td>\n",
       "      <td>4.5</td>\n",
       "      <td>[]</td>\n",
       "      <td>€€</td>\n",
       "      <td>566.745918</td>\n",
       "      <td>48.864516</td>\n",
       "      <td>2.345402</td>\n",
       "      <td>34 rue Montmartre</td>\n",
       "      <td>NaN</td>\n",
       "      <td>NaN</td>\n",
       "      <td>Paris</td>\n",
       "      <td>75001</td>\n",
       "      <td>FR</td>\n",
       "      <td>75.0</td>\n",
       "      <td>['34 rue Montmartre', '75001 Paris', 'France']</td>\n",
       "      <td>11100</td>\n",
       "      <td>{'center': {'longitude': 2.3378562927246094, '...</td>\n",
       "      <td>Restaurant</td>\n",
       "      <td>Hot Pot</td>\n",
       "      <td>0.000015</td>\n",
       "    </tr>\n",
       "    <tr>\n",
       "      <th>1</th>\n",
       "      <td>1</td>\n",
       "      <td>1</td>\n",
       "      <td>IU9_wVOGBKjfqTTpAXpKcQ</td>\n",
       "      <td>bistro-des-augustins-paris</td>\n",
       "      <td>Bistro des Augustins</td>\n",
       "      <td>False</td>\n",
       "      <td>470</td>\n",
       "      <td>Southern, Cocktail Bars</td>\n",
       "      <td>4.5</td>\n",
       "      <td>[]</td>\n",
       "      <td>€€</td>\n",
       "      <td>1006.357971</td>\n",
       "      <td>48.854754</td>\n",
       "      <td>2.342119</td>\n",
       "      <td>39 quai des Grands Augustins</td>\n",
       "      <td>NaN</td>\n",
       "      <td>NaN</td>\n",
       "      <td>Paris</td>\n",
       "      <td>75006</td>\n",
       "      <td>FR</td>\n",
       "      <td>75.0</td>\n",
       "      <td>['39 quai des Grands Augustins', '75006 Paris'...</td>\n",
       "      <td>11100</td>\n",
       "      <td>{'center': {'longitude': 2.3378562927246094, '...</td>\n",
       "      <td>Restaurant</td>\n",
       "      <td>Southern</td>\n",
       "      <td>0.690802</td>\n",
       "    </tr>\n",
       "    <tr>\n",
       "      <th>2</th>\n",
       "      <td>2</td>\n",
       "      <td>2</td>\n",
       "      <td>ctP4c3mwVO5oOzLI48LtuQ</td>\n",
       "      <td>les-antiquaires-paris</td>\n",
       "      <td>Les Antiquaires</td>\n",
       "      <td>False</td>\n",
       "      <td>433</td>\n",
       "      <td>Bars, American (New), Salad</td>\n",
       "      <td>4.5</td>\n",
       "      <td>[]</td>\n",
       "      <td>€€€</td>\n",
       "      <td>917.337995</td>\n",
       "      <td>48.858066</td>\n",
       "      <td>2.328237</td>\n",
       "      <td>13 rue du Bac</td>\n",
       "      <td>NaN</td>\n",
       "      <td>NaN</td>\n",
       "      <td>Paris</td>\n",
       "      <td>75007</td>\n",
       "      <td>FR</td>\n",
       "      <td>75.0</td>\n",
       "      <td>['13 rue du Bac', '75007 Paris', 'France']</td>\n",
       "      <td>11100</td>\n",
       "      <td>{'center': {'longitude': 2.3378562927246094, '...</td>\n",
       "      <td>Restaurant</td>\n",
       "      <td>Bars</td>\n",
       "      <td>0.898532</td>\n",
       "    </tr>\n",
       "    <tr>\n",
       "      <th>3</th>\n",
       "      <td>3</td>\n",
       "      <td>3</td>\n",
       "      <td>cEjF41ZQB8-SST8cd3EsEw</td>\n",
       "      <td>l-avant-comptoir-paris-3</td>\n",
       "      <td>L'Avant Comptoir</td>\n",
       "      <td>False</td>\n",
       "      <td>648</td>\n",
       "      <td>Asian Fusion</td>\n",
       "      <td>4.5</td>\n",
       "      <td>[]</td>\n",
       "      <td>€€</td>\n",
       "      <td>1263.351331</td>\n",
       "      <td>48.852020</td>\n",
       "      <td>2.338800</td>\n",
       "      <td>3 carrefour de l'Odéon</td>\n",
       "      <td>NaN</td>\n",
       "      <td>NaN</td>\n",
       "      <td>Paris</td>\n",
       "      <td>75006</td>\n",
       "      <td>FR</td>\n",
       "      <td>75.0</td>\n",
       "      <td>[\"3 carrefour de l'Odéon\", '75006 Paris', 'Fra...</td>\n",
       "      <td>11100</td>\n",
       "      <td>{'center': {'longitude': 2.3378562927246094, '...</td>\n",
       "      <td>Restaurant</td>\n",
       "      <td>Asian Fusion</td>\n",
       "      <td>0.914064</td>\n",
       "    </tr>\n",
       "    <tr>\n",
       "      <th>4</th>\n",
       "      <td>4</td>\n",
       "      <td>4</td>\n",
       "      <td>-umFmobUgpW_05m_ud1vHw</td>\n",
       "      <td>la-cordonnerie-paris-5</td>\n",
       "      <td>La Cordonnerie</td>\n",
       "      <td>False</td>\n",
       "      <td>93</td>\n",
       "      <td>Italian, American (Traditional), Sandwiches</td>\n",
       "      <td>4.5</td>\n",
       "      <td>[]</td>\n",
       "      <td>€€€</td>\n",
       "      <td>461.497317</td>\n",
       "      <td>48.865430</td>\n",
       "      <td>2.332370</td>\n",
       "      <td>20 rue Saint Roch</td>\n",
       "      <td>NaN</td>\n",
       "      <td>NaN</td>\n",
       "      <td>Paris</td>\n",
       "      <td>75001</td>\n",
       "      <td>FR</td>\n",
       "      <td>75.0</td>\n",
       "      <td>['20 rue Saint Roch', '75001 Paris', 'France']</td>\n",
       "      <td>11100</td>\n",
       "      <td>{'center': {'longitude': 2.3378562927246094, '...</td>\n",
       "      <td>Restaurant</td>\n",
       "      <td>Italian</td>\n",
       "      <td>0.595689</td>\n",
       "    </tr>\n",
       "  </tbody>\n",
       "</table>\n",
       "</div>"
      ],
      "text/plain": [
       "   index  Unnamed: 0                      id  \\\n",
       "0      0           0  -0iLH7iQNYtoURciDpJf6w   \n",
       "1      1           1  IU9_wVOGBKjfqTTpAXpKcQ   \n",
       "2      2           2  ctP4c3mwVO5oOzLI48LtuQ   \n",
       "3      3           3  cEjF41ZQB8-SST8cd3EsEw   \n",
       "4      4           4  -umFmobUgpW_05m_ud1vHw   \n",
       "\n",
       "                                 alias                           name  \\\n",
       "0  le-comptoir-de-la-gastronomie-paris  Le Comptoir de la Gastronomie   \n",
       "1           bistro-des-augustins-paris           Bistro des Augustins   \n",
       "2                les-antiquaires-paris                Les Antiquaires   \n",
       "3             l-avant-comptoir-paris-3               L'Avant Comptoir   \n",
       "4               la-cordonnerie-paris-5                 La Cordonnerie   \n",
       "\n",
       "   is_closed  review_count                                   categories  \\\n",
       "0      False          1231                    Hot Pot, Korean, Barbeque   \n",
       "1      False           470                      Southern, Cocktail Bars   \n",
       "2      False           433                  Bars, American (New), Salad   \n",
       "3      False           648                                 Asian Fusion   \n",
       "4      False            93  Italian, American (Traditional), Sandwiches   \n",
       "\n",
       "   rating transactions price     distance  coordinates.latitude  \\\n",
       "0     4.5           []    €€   566.745918             48.864516   \n",
       "1     4.5           []    €€  1006.357971             48.854754   \n",
       "2     4.5           []   €€€   917.337995             48.858066   \n",
       "3     4.5           []    €€  1263.351331             48.852020   \n",
       "4     4.5           []   €€€   461.497317             48.865430   \n",
       "\n",
       "   coordinates.longitude             location.address1 location.address2  \\\n",
       "0               2.345402             34 rue Montmartre               NaN   \n",
       "1               2.342119  39 quai des Grands Augustins               NaN   \n",
       "2               2.328237                 13 rue du Bac               NaN   \n",
       "3               2.338800        3 carrefour de l'Odéon               NaN   \n",
       "4               2.332370             20 rue Saint Roch               NaN   \n",
       "\n",
       "  location.address3 location.city  location.zip_code location.country  \\\n",
       "0               NaN         Paris              75001               FR   \n",
       "1               NaN         Paris              75006               FR   \n",
       "2               NaN         Paris              75007               FR   \n",
       "3               NaN         Paris              75006               FR   \n",
       "4               NaN         Paris              75001               FR   \n",
       "\n",
       "   location.state                           location.display_address  total  \\\n",
       "0            75.0     ['34 rue Montmartre', '75001 Paris', 'France']  11100   \n",
       "1            75.0  ['39 quai des Grands Augustins', '75006 Paris'...  11100   \n",
       "2            75.0         ['13 rue du Bac', '75007 Paris', 'France']  11100   \n",
       "3            75.0  [\"3 carrefour de l'Odéon\", '75006 Paris', 'Fra...  11100   \n",
       "4            75.0     ['20 rue Saint Roch', '75001 Paris', 'France']  11100   \n",
       "\n",
       "                                              region  \\\n",
       "0  {'center': {'longitude': 2.3378562927246094, '...   \n",
       "1  {'center': {'longitude': 2.3378562927246094, '...   \n",
       "2  {'center': {'longitude': 2.3378562927246094, '...   \n",
       "3  {'center': {'longitude': 2.3378562927246094, '...   \n",
       "4  {'center': {'longitude': 2.3378562927246094, '...   \n",
       "\n",
       "  Restaurant or Attraction? First Listed Category  In range?  \n",
       "0                Restaurant               Hot Pot   0.000015  \n",
       "1                Restaurant              Southern   0.690802  \n",
       "2                Restaurant                  Bars   0.898532  \n",
       "3                Restaurant          Asian Fusion   0.914064  \n",
       "4                Restaurant               Italian   0.595689  "
      ]
     },
     "execution_count": 89,
     "metadata": {},
     "output_type": "execute_result"
    }
   ],
   "source": [
    "paris_df.head()"
   ]
  },
  {
   "cell_type": "code",
   "execution_count": null,
   "metadata": {},
   "outputs": [
    {
     "data": {
      "text/plain": [
       "-74.14673"
      ]
     },
     "execution_count": 24,
     "metadata": {},
     "output_type": "execute_result"
    }
   ],
   "source": [
    "si_df.iat[0, 12]"
   ]
  },
  {
   "cell_type": "code",
   "execution_count": null,
   "metadata": {},
   "outputs": [],
   "source": []
  },
  {
   "cell_type": "code",
   "execution_count": null,
   "metadata": {},
   "outputs": [],
   "source": []
  }
 ],
 "metadata": {
  "kernelspec": {
   "display_name": "base",
   "language": "python",
   "name": "python3"
  },
  "language_info": {
   "codemirror_mode": {
    "name": "ipython",
    "version": 3
   },
   "file_extension": ".py",
   "mimetype": "text/x-python",
   "name": "python",
   "nbconvert_exporter": "python",
   "pygments_lexer": "ipython3",
   "version": "3.10.9"
  },
  "orig_nbformat": 4
 },
 "nbformat": 4,
 "nbformat_minor": 2
}
