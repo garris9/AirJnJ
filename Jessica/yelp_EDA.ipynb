{
 "cells": [
  {
   "attachments": {},
   "cell_type": "markdown",
   "metadata": {},
   "source": [
    "# YELP REVIEWS EDA\n",
    "\n",
    "## Introduction\n",
    "To complement the Airbnb listing data, we are also using the Yelp API to look at nearby restaurants/attractions. The Yelp API calls work best with zip codes, but our AirBnB dataset did not include zip codes. We originally tried to convert latitude and longitudes into zip codes, but the excel and python functions were not very efficient and we weren't making progress, so we decided to use all the zip codes in NYC (214) and Paris (20).\n",
    "\n",
    "### Data Source\n",
    "Our API data was consumed from the Yelp Fusion API at [Yelp](https://www.yelp.com/developers/documentation/v3/authentication)\n",
    "\n"
   ]
  },
  {
   "cell_type": "code",
   "execution_count": 72,
   "metadata": {},
   "outputs": [],
   "source": [
    "import pandas as pd"
   ]
  },
  {
   "attachments": {},
   "cell_type": "markdown",
   "metadata": {},
   "source": [
    "Previously, we collected all zip codes for each of the 6 geographical areas into lists, then created API calls for each zip code in an area with a defined radius to pull all restaurants and attractions. Each of these results were saved as .csv files for more permanent storage and future manipulation. \n",
    "\n",
    "Here, these are read into dataframes for exploratory data analysis.\n"
   ]
  },
  {
   "cell_type": "code",
   "execution_count": 73,
   "metadata": {},
   "outputs": [],
   "source": [
    "fn1 = './data/bronx.csv'\n",
    "fn2 = './data/brooklyn.csv'\n",
    "fn3 = './data/manhatten.csv'\n",
    "fn4 = './data/queens.csv'\n",
    "fn5 = './data/staten_island.csv'\n",
    "fn6 = './data/paris.csv'\n",
    "\n",
    "bronx = pd.read_csv(fn1)\n",
    "brooklyn = pd.read_csv(fn2)\n",
    "manhattan = pd.read_csv(fn3)\n",
    "queens = pd.read_csv(fn4)\n",
    "si = pd.read_csv(fn5)\n",
    "paris = pd.read_csv(fn6)"
   ]
  },
  {
   "attachments": {},
   "cell_type": "markdown",
   "metadata": {},
   "source": [
    "Let's take a look at a sample dataframe's info for datatypes and null counts."
   ]
  },
  {
   "cell_type": "code",
   "execution_count": 74,
   "metadata": {},
   "outputs": [
    {
     "name": "stdout",
     "output_type": "stream",
     "text": [
      "<class 'pandas.core.frame.DataFrame'>\n",
      "RangeIndex: 2448 entries, 0 to 2447\n",
      "Data columns (total 28 columns):\n",
      " #   Column                     Non-Null Count  Dtype  \n",
      "---  ------                     --------------  -----  \n",
      " 0   Unnamed: 0                 2448 non-null   int64  \n",
      " 1   id                         2448 non-null   object \n",
      " 2   alias                      2448 non-null   object \n",
      " 3   name                       2448 non-null   object \n",
      " 4   image_url                  2429 non-null   object \n",
      " 5   is_closed                  2448 non-null   bool   \n",
      " 6   url                        2448 non-null   object \n",
      " 7   review_count               2448 non-null   int64  \n",
      " 8   categories                 2448 non-null   object \n",
      " 9   rating                     2448 non-null   float64\n",
      " 10  transactions               2448 non-null   object \n",
      " 11  phone                      2289 non-null   float64\n",
      " 12  display_phone              2289 non-null   object \n",
      " 13  distance                   2448 non-null   float64\n",
      " 14  coordinates.latitude       2448 non-null   float64\n",
      " 15  coordinates.longitude      2448 non-null   float64\n",
      " 16  location.address1          2194 non-null   object \n",
      " 17  location.address2          124 non-null    object \n",
      " 18  location.address3          75 non-null     object \n",
      " 19  location.city              2448 non-null   object \n",
      " 20  location.zip_code          2448 non-null   int64  \n",
      " 21  location.country           2448 non-null   object \n",
      " 22  location.state             2448 non-null   object \n",
      " 23  location.display_address   2448 non-null   object \n",
      " 24  price                      1159 non-null   object \n",
      " 25  total                      2448 non-null   int64  \n",
      " 26  region                     2448 non-null   object \n",
      " 27  Restaurant or Attraction?  2448 non-null   object \n",
      "dtypes: bool(1), float64(5), int64(4), object(18)\n",
      "memory usage: 518.9+ KB\n"
     ]
    }
   ],
   "source": [
    "pd.options.display.max_rows=5\n",
    "bronx.info()"
   ]
  },
  {
   "cell_type": "code",
   "execution_count": null,
   "metadata": {},
   "outputs": [],
   "source": [
    "bronx['coordinates.latitude'].isna().sum()"
   ]
  },
  {
   "attachments": {},
   "cell_type": "markdown",
   "metadata": {},
   "source": [
    "Here, I am just checking to make sure the column names for NYC and Paris are the same so we don't have issues in future merges."
   ]
  },
  {
   "cell_type": "code",
   "execution_count": 75,
   "metadata": {},
   "outputs": [
    {
     "data": {
      "text/plain": [
       "Index(['Unnamed: 0', 'id', 'alias', 'name', 'image_url', 'is_closed', 'url',\n",
       "       'review_count', 'categories', 'rating', 'transactions', 'phone',\n",
       "       'display_phone', 'distance', 'coordinates.latitude',\n",
       "       'coordinates.longitude', 'location.address1', 'location.address2',\n",
       "       'location.address3', 'location.city', 'location.zip_code',\n",
       "       'location.country', 'location.state', 'location.display_address',\n",
       "       'price', 'total', 'region', 'Restaurant or Attraction?'],\n",
       "      dtype='object')"
      ]
     },
     "metadata": {},
     "output_type": "display_data"
    },
    {
     "data": {
      "text/plain": [
       "Index(['Unnamed: 0', 'id', 'alias', 'name', 'image_url', 'is_closed', 'url',\n",
       "       'review_count', 'categories', 'rating', 'transactions', 'price',\n",
       "       'phone', 'display_phone', 'distance', 'coordinates.latitude',\n",
       "       'coordinates.longitude', 'location.address1', 'location.address2',\n",
       "       'location.address3', 'location.city', 'location.zip_code',\n",
       "       'location.country', 'location.state', 'location.display_address',\n",
       "       'total', 'region', 'Restaurant or Attraction?'],\n",
       "      dtype='object')"
      ]
     },
     "execution_count": 75,
     "metadata": {},
     "output_type": "execute_result"
    }
   ],
   "source": [
    "display(bronx.columns)\n",
    "paris.columns"
   ]
  },
  {
   "attachments": {},
   "cell_type": "markdown",
   "metadata": {},
   "source": [
    "Keeping the dataframes for each city/borough separate will be useful for future joins with the listings dataframe, but an efficient means of cleaning all in the same way will be useful. Let's set up a dictionary of key value pairs, where the dataframe is the value, to be used for dictionary comprehension in steps to follow."
   ]
  },
  {
   "cell_type": "code",
   "execution_count": 76,
   "metadata": {},
   "outputs": [],
   "source": [
    "geo_groups = {'paris': paris, 'bronx': bronx, 'brooklyn': brooklyn, 'manhattan': manhattan, 'queens': queens, 'si': si}"
   ]
  },
  {
   "attachments": {},
   "cell_type": "markdown",
   "metadata": {},
   "source": [
    "It will sometimes be useful to look at the collective data as well, so let's create a dataframe concatenating all of the geo groups and removing duplicates. This will produce only unique name, lat, long combos. Name would be insufficient, since chain restaurants or shops can have more than one location.\n",
    "\n",
    "A printout before and after the clean shows 19,758 results on original concatenation, and 4739 results after removing duplicates. This is a natural artifact of the method we used for collecting business data from the Yelp API with zip codes in a radius. NYC is densely populated and thus has many zip codes in a relatively small surface area (as compared to the rest of the US and more suburban areas). We recognized that our data collection method would produce many replicate results for the 5 boroughs, but erred on the side of collecting too much data rather than not enough, and take care of that here in post-processing."
   ]
  },
  {
   "cell_type": "code",
   "execution_count": 77,
   "metadata": {},
   "outputs": [
    {
     "name": "stdout",
     "output_type": "stream",
     "text": [
      "19758\n"
     ]
    },
    {
     "data": {
      "text/html": [
       "<div>\n",
       "<style scoped>\n",
       "    .dataframe tbody tr th:only-of-type {\n",
       "        vertical-align: middle;\n",
       "    }\n",
       "\n",
       "    .dataframe tbody tr th {\n",
       "        vertical-align: top;\n",
       "    }\n",
       "\n",
       "    .dataframe thead th {\n",
       "        text-align: right;\n",
       "    }\n",
       "</style>\n",
       "<table border=\"1\" class=\"dataframe\">\n",
       "  <thead>\n",
       "    <tr style=\"text-align: right;\">\n",
       "      <th></th>\n",
       "      <th>Unnamed: 0</th>\n",
       "      <th>id</th>\n",
       "      <th>alias</th>\n",
       "      <th>name</th>\n",
       "      <th>image_url</th>\n",
       "      <th>is_closed</th>\n",
       "      <th>url</th>\n",
       "      <th>review_count</th>\n",
       "      <th>categories</th>\n",
       "      <th>rating</th>\n",
       "      <th>...</th>\n",
       "      <th>location.address3</th>\n",
       "      <th>location.city</th>\n",
       "      <th>location.zip_code</th>\n",
       "      <th>location.country</th>\n",
       "      <th>location.state</th>\n",
       "      <th>location.display_address</th>\n",
       "      <th>price</th>\n",
       "      <th>total</th>\n",
       "      <th>region</th>\n",
       "      <th>Restaurant or Attraction?</th>\n",
       "    </tr>\n",
       "  </thead>\n",
       "  <tbody>\n",
       "    <tr>\n",
       "      <th>0</th>\n",
       "      <td>0</td>\n",
       "      <td>huCqalKTIWBv8w6fFsG49g</td>\n",
       "      <td>tobalá-the-bronx</td>\n",
       "      <td>Tobalá</td>\n",
       "      <td>https://s3-media4.fl.yelpcdn.com/bphoto/f2PBuC...</td>\n",
       "      <td>False</td>\n",
       "      <td>https://www.yelp.com/biz/tobal%C3%A1-the-bronx...</td>\n",
       "      <td>27</td>\n",
       "      <td>[{'alias': 'mexican', 'title': 'Mexican'}, {'a...</td>\n",
       "      <td>4.5</td>\n",
       "      <td>...</td>\n",
       "      <td>NaN</td>\n",
       "      <td>The Bronx</td>\n",
       "      <td>10463</td>\n",
       "      <td>US</td>\n",
       "      <td>NY</td>\n",
       "      <td>['3732 Riverdale Ave', 'The Bronx, NY 10463']</td>\n",
       "      <td>NaN</td>\n",
       "      <td>2200</td>\n",
       "      <td>{'center': {'longitude': -73.90588760375977, '...</td>\n",
       "      <td>Restaurant</td>\n",
       "    </tr>\n",
       "  </tbody>\n",
       "</table>\n",
       "<p>1 rows × 28 columns</p>\n",
       "</div>"
      ],
      "text/plain": [
       "   Unnamed: 0                      id             alias    name  \\\n",
       "0           0  huCqalKTIWBv8w6fFsG49g  tobalá-the-bronx  Tobalá   \n",
       "\n",
       "                                           image_url  is_closed  \\\n",
       "0  https://s3-media4.fl.yelpcdn.com/bphoto/f2PBuC...      False   \n",
       "\n",
       "                                                 url  review_count  \\\n",
       "0  https://www.yelp.com/biz/tobal%C3%A1-the-bronx...            27   \n",
       "\n",
       "                                          categories  rating  ...  \\\n",
       "0  [{'alias': 'mexican', 'title': 'Mexican'}, {'a...     4.5  ...   \n",
       "\n",
       "  location.address3  location.city location.zip_code  location.country  \\\n",
       "0               NaN      The Bronx             10463                US   \n",
       "\n",
       "   location.state                       location.display_address price total  \\\n",
       "0              NY  ['3732 Riverdale Ave', 'The Bronx, NY 10463']   NaN  2200   \n",
       "\n",
       "                                              region Restaurant or Attraction?  \n",
       "0  {'center': {'longitude': -73.90588760375977, '...                Restaurant  \n",
       "\n",
       "[1 rows x 28 columns]"
      ]
     },
     "metadata": {},
     "output_type": "display_data"
    },
    {
     "name": "stdout",
     "output_type": "stream",
     "text": [
      "4739\n"
     ]
    }
   ],
   "source": [
    "nycp = pd.concat([bronx, brooklyn, manhattan, queens, si, paris])\n",
    "print(nycp.name.count())\n",
    "\n",
    "duplicates = nycp[nycp.duplicated(subset=['name', 'coordinates.latitude', 'coordinates.longitude'], keep=False)]\n",
    "display(duplicates.head(1))\n",
    "\n",
    "nycp = nycp.drop_duplicates(subset=['name', 'coordinates.latitude', 'coordinates.longitude'])\n",
    "print(nycp.name.count())\n"
   ]
  },
  {
   "cell_type": "code",
   "execution_count": 78,
   "metadata": {},
   "outputs": [
    {
     "data": {
      "text/html": [
       "<div>\n",
       "<style scoped>\n",
       "    .dataframe tbody tr th:only-of-type {\n",
       "        vertical-align: middle;\n",
       "    }\n",
       "\n",
       "    .dataframe tbody tr th {\n",
       "        vertical-align: top;\n",
       "    }\n",
       "\n",
       "    .dataframe thead th {\n",
       "        text-align: right;\n",
       "    }\n",
       "</style>\n",
       "<table border=\"1\" class=\"dataframe\">\n",
       "  <thead>\n",
       "    <tr style=\"text-align: right;\">\n",
       "      <th></th>\n",
       "      <th>Unnamed: 0</th>\n",
       "      <th>id</th>\n",
       "      <th>alias</th>\n",
       "      <th>name</th>\n",
       "      <th>image_url</th>\n",
       "      <th>is_closed</th>\n",
       "      <th>url</th>\n",
       "      <th>review_count</th>\n",
       "      <th>categories</th>\n",
       "      <th>rating</th>\n",
       "      <th>...</th>\n",
       "      <th>location.address3</th>\n",
       "      <th>location.city</th>\n",
       "      <th>location.zip_code</th>\n",
       "      <th>location.country</th>\n",
       "      <th>location.state</th>\n",
       "      <th>location.display_address</th>\n",
       "      <th>price</th>\n",
       "      <th>total</th>\n",
       "      <th>region</th>\n",
       "      <th>Restaurant or Attraction?</th>\n",
       "    </tr>\n",
       "  </thead>\n",
       "  <tbody>\n",
       "    <tr>\n",
       "      <th>0</th>\n",
       "      <td>0</td>\n",
       "      <td>huCqalKTIWBv8w6fFsG49g</td>\n",
       "      <td>tobalá-the-bronx</td>\n",
       "      <td>Tobalá</td>\n",
       "      <td>https://s3-media4.fl.yelpcdn.com/bphoto/f2PBuC...</td>\n",
       "      <td>False</td>\n",
       "      <td>https://www.yelp.com/biz/tobal%C3%A1-the-bronx...</td>\n",
       "      <td>27</td>\n",
       "      <td>[{'alias': 'mexican', 'title': 'Mexican'}, {'a...</td>\n",
       "      <td>4.5</td>\n",
       "      <td>...</td>\n",
       "      <td>NaN</td>\n",
       "      <td>The Bronx</td>\n",
       "      <td>10463</td>\n",
       "      <td>US</td>\n",
       "      <td>NY</td>\n",
       "      <td>['3732 Riverdale Ave', 'The Bronx, NY 10463']</td>\n",
       "      <td>NaN</td>\n",
       "      <td>2200</td>\n",
       "      <td>{'center': {'longitude': -73.90588760375977, '...</td>\n",
       "      <td>Restaurant</td>\n",
       "    </tr>\n",
       "    <tr>\n",
       "      <th>1</th>\n",
       "      <td>1</td>\n",
       "      <td>I1AqEw-O6spamgtJLNPjBg</td>\n",
       "      <td>leche-y-miel-restaurant-bronx</td>\n",
       "      <td>Leche Y Miel Restaurant</td>\n",
       "      <td>https://s3-media2.fl.yelpcdn.com/bphoto/hVTUIn...</td>\n",
       "      <td>False</td>\n",
       "      <td>https://www.yelp.com/biz/leche-y-miel-restaura...</td>\n",
       "      <td>333</td>\n",
       "      <td>[{'alias': 'comfortfood', 'title': 'Comfort Fo...</td>\n",
       "      <td>4.5</td>\n",
       "      <td>...</td>\n",
       "      <td>NaN</td>\n",
       "      <td>Bronx</td>\n",
       "      <td>10463</td>\n",
       "      <td>US</td>\n",
       "      <td>NY</td>\n",
       "      <td>['5761 Broadway', 'Bronx, NY 10463']</td>\n",
       "      <td>$$</td>\n",
       "      <td>2200</td>\n",
       "      <td>{'center': {'longitude': -73.90588760375977, '...</td>\n",
       "      <td>Restaurant</td>\n",
       "    </tr>\n",
       "  </tbody>\n",
       "</table>\n",
       "<p>2 rows × 28 columns</p>\n",
       "</div>"
      ],
      "text/plain": [
       "   Unnamed: 0                      id                          alias  \\\n",
       "0           0  huCqalKTIWBv8w6fFsG49g               tobalá-the-bronx   \n",
       "1           1  I1AqEw-O6spamgtJLNPjBg  leche-y-miel-restaurant-bronx   \n",
       "\n",
       "                      name                                          image_url  \\\n",
       "0                   Tobalá  https://s3-media4.fl.yelpcdn.com/bphoto/f2PBuC...   \n",
       "1  Leche Y Miel Restaurant  https://s3-media2.fl.yelpcdn.com/bphoto/hVTUIn...   \n",
       "\n",
       "   is_closed                                                url  review_count  \\\n",
       "0      False  https://www.yelp.com/biz/tobal%C3%A1-the-bronx...            27   \n",
       "1      False  https://www.yelp.com/biz/leche-y-miel-restaura...           333   \n",
       "\n",
       "                                          categories  rating  ...  \\\n",
       "0  [{'alias': 'mexican', 'title': 'Mexican'}, {'a...     4.5  ...   \n",
       "1  [{'alias': 'comfortfood', 'title': 'Comfort Fo...     4.5  ...   \n",
       "\n",
       "  location.address3  location.city location.zip_code  location.country  \\\n",
       "0               NaN      The Bronx             10463                US   \n",
       "1               NaN          Bronx             10463                US   \n",
       "\n",
       "   location.state                       location.display_address price total  \\\n",
       "0              NY  ['3732 Riverdale Ave', 'The Bronx, NY 10463']   NaN  2200   \n",
       "1              NY           ['5761 Broadway', 'Bronx, NY 10463']    $$  2200   \n",
       "\n",
       "                                              region Restaurant or Attraction?  \n",
       "0  {'center': {'longitude': -73.90588760375977, '...                Restaurant  \n",
       "1  {'center': {'longitude': -73.90588760375977, '...                Restaurant  \n",
       "\n",
       "[2 rows x 28 columns]"
      ]
     },
     "execution_count": 78,
     "metadata": {},
     "output_type": "execute_result"
    }
   ],
   "source": [
    "nycp.head(2)"
   ]
  },
  {
   "attachments": {},
   "cell_type": "markdown",
   "metadata": {},
   "source": [
    "Let's create a dataframe for each geo grouping that contains only the name of the restaurant and it's coordinates in lat/long, use dictionary comprehension to collect them, where the dictionary key is the city/borough, and the value is the respective dataframe."
   ]
  },
  {
   "cell_type": "code",
   "execution_count": 79,
   "metadata": {},
   "outputs": [
    {
     "data": {
      "text/html": [
       "<div>\n",
       "<style scoped>\n",
       "    .dataframe tbody tr th:only-of-type {\n",
       "        vertical-align: middle;\n",
       "    }\n",
       "\n",
       "    .dataframe tbody tr th {\n",
       "        vertical-align: top;\n",
       "    }\n",
       "\n",
       "    .dataframe thead th {\n",
       "        text-align: right;\n",
       "    }\n",
       "</style>\n",
       "<table border=\"1\" class=\"dataframe\">\n",
       "  <thead>\n",
       "    <tr style=\"text-align: right;\">\n",
       "      <th></th>\n",
       "      <th>name</th>\n",
       "      <th>coordinates.latitude</th>\n",
       "      <th>coordinates.longitude</th>\n",
       "    </tr>\n",
       "  </thead>\n",
       "  <tbody>\n",
       "    <tr>\n",
       "      <th>0</th>\n",
       "      <td>The Honey Well</td>\n",
       "      <td>40.828490</td>\n",
       "      <td>-73.948620</td>\n",
       "    </tr>\n",
       "    <tr>\n",
       "      <th>1</th>\n",
       "      <td>Harlem Public</td>\n",
       "      <td>40.828718</td>\n",
       "      <td>-73.948441</td>\n",
       "    </tr>\n",
       "    <tr>\n",
       "      <th>...</th>\n",
       "      <td>...</td>\n",
       "      <td>...</td>\n",
       "      <td>...</td>\n",
       "    </tr>\n",
       "    <tr>\n",
       "      <th>4285</th>\n",
       "      <td>Monty Hall</td>\n",
       "      <td>40.716398</td>\n",
       "      <td>-74.036372</td>\n",
       "    </tr>\n",
       "    <tr>\n",
       "      <th>4295</th>\n",
       "      <td>Accomplice The Show</td>\n",
       "      <td>40.725665</td>\n",
       "      <td>-73.997734</td>\n",
       "    </tr>\n",
       "  </tbody>\n",
       "</table>\n",
       "<p>1165 rows × 3 columns</p>\n",
       "</div>"
      ],
      "text/plain": [
       "                     name  coordinates.latitude  coordinates.longitude\n",
       "0          The Honey Well             40.828490             -73.948620\n",
       "1           Harlem Public             40.828718             -73.948441\n",
       "...                   ...                   ...                    ...\n",
       "4285           Monty Hall             40.716398             -74.036372\n",
       "4295  Accomplice The Show             40.725665             -73.997734\n",
       "\n",
       "[1165 rows x 3 columns]"
      ]
     },
     "execution_count": 79,
     "metadata": {},
     "output_type": "execute_result"
    }
   ],
   "source": [
    "coords = {geo: df[['name', 'coordinates.latitude', 'coordinates.longitude']].\n",
    "          drop_duplicates(subset=['name', 'coordinates.latitude', 'coordinates.longitude']) \n",
    "          for geo, df in geo_groups.items()}\n",
    "coords['paris']\n",
    "coords['manhattan']"
   ]
  },
  {
   "attachments": {},
   "cell_type": "markdown",
   "metadata": {},
   "source": [
    "Now let's get a snapshot of how many unique restaurants and attractions are in each city."
   ]
  },
  {
   "cell_type": "code",
   "execution_count": 80,
   "metadata": {},
   "outputs": [
    {
     "name": "stdout",
     "output_type": "stream",
     "text": [
      "There are 1050 restaurants in paris.\n",
      "There are 1250 restaurants in bronx.\n",
      "There are 1850 restaurants in brooklyn.\n",
      "There are 2150 restaurants in manhattan.\n",
      "There are 3043 restaurants in queens.\n",
      "There are 600 restaurants in si.\n",
      "\n",
      "\n",
      "There are 1050 attractions in paris.\n",
      "There are 1198 attractions in bronx.\n",
      "There are 1807 attractions in brooklyn.\n",
      "There are 2150 attractions in manhattan.\n",
      "There are 3010 attractions in queens.\n",
      "There are 600 attractions in si.\n"
     ]
    },
    {
     "data": {
      "text/html": [
       "<div>\n",
       "<style scoped>\n",
       "    .dataframe tbody tr th:only-of-type {\n",
       "        vertical-align: middle;\n",
       "    }\n",
       "\n",
       "    .dataframe tbody tr th {\n",
       "        vertical-align: top;\n",
       "    }\n",
       "\n",
       "    .dataframe thead th {\n",
       "        text-align: right;\n",
       "    }\n",
       "</style>\n",
       "<table border=\"1\" class=\"dataframe\">\n",
       "  <thead>\n",
       "    <tr style=\"text-align: right;\">\n",
       "      <th></th>\n",
       "      <th>name</th>\n",
       "    </tr>\n",
       "  </thead>\n",
       "  <tbody>\n",
       "    <tr>\n",
       "      <th>2150</th>\n",
       "      <td>Sister's Uptown Bookstore</td>\n",
       "    </tr>\n",
       "    <tr>\n",
       "      <th>2151</th>\n",
       "      <td>Universal Hip Hop Museum</td>\n",
       "    </tr>\n",
       "    <tr>\n",
       "      <th>...</th>\n",
       "      <td>...</td>\n",
       "    </tr>\n",
       "    <tr>\n",
       "      <th>4298</th>\n",
       "      <td>Poets House</td>\n",
       "    </tr>\n",
       "    <tr>\n",
       "      <th>4299</th>\n",
       "      <td>Angel Eye Astrology</td>\n",
       "    </tr>\n",
       "  </tbody>\n",
       "</table>\n",
       "<p>2150 rows × 1 columns</p>\n",
       "</div>"
      ],
      "text/plain": [
       "                           name\n",
       "2150  Sister's Uptown Bookstore\n",
       "2151   Universal Hip Hop Museum\n",
       "...                         ...\n",
       "4298                Poets House\n",
       "4299        Angel Eye Astrology\n",
       "\n",
       "[2150 rows x 1 columns]"
      ]
     },
     "metadata": {},
     "output_type": "display_data"
    },
    {
     "data": {
      "text/html": [
       "<div>\n",
       "<style scoped>\n",
       "    .dataframe tbody tr th:only-of-type {\n",
       "        vertical-align: middle;\n",
       "    }\n",
       "\n",
       "    .dataframe tbody tr th {\n",
       "        vertical-align: top;\n",
       "    }\n",
       "\n",
       "    .dataframe thead th {\n",
       "        text-align: right;\n",
       "    }\n",
       "</style>\n",
       "<table border=\"1\" class=\"dataframe\">\n",
       "  <thead>\n",
       "    <tr style=\"text-align: right;\">\n",
       "      <th></th>\n",
       "      <th>name</th>\n",
       "    </tr>\n",
       "  </thead>\n",
       "  <tbody>\n",
       "    <tr>\n",
       "      <th>0</th>\n",
       "      <td>Le Comptoir de la Gastronomie</td>\n",
       "    </tr>\n",
       "    <tr>\n",
       "      <th>1</th>\n",
       "      <td>Bistro des Augustins</td>\n",
       "    </tr>\n",
       "    <tr>\n",
       "      <th>...</th>\n",
       "      <td>...</td>\n",
       "    </tr>\n",
       "    <tr>\n",
       "      <th>1048</th>\n",
       "      <td>Les Pères Populaires</td>\n",
       "    </tr>\n",
       "    <tr>\n",
       "      <th>1049</th>\n",
       "      <td>L'Ange 20</td>\n",
       "    </tr>\n",
       "  </tbody>\n",
       "</table>\n",
       "<p>1050 rows × 1 columns</p>\n",
       "</div>"
      ],
      "text/plain": [
       "                               name\n",
       "0     Le Comptoir de la Gastronomie\n",
       "1              Bistro des Augustins\n",
       "...                             ...\n",
       "1048           Les Pères Populaires\n",
       "1049                      L'Ange 20\n",
       "\n",
       "[1050 rows x 1 columns]"
      ]
     },
     "metadata": {},
     "output_type": "display_data"
    }
   ],
   "source": [
    "restaurants = {geo: df[df['Restaurant or Attraction?'] == 'Restaurant'][['name']] for geo, df in geo_groups.items()}\n",
    "attractions = {geo: df[df['Restaurant or Attraction?'] != 'Restaurant'][['name']] for geo, df in geo_groups.items()}\n",
    "\n",
    "for geo, df in restaurants.items():\n",
    "    print(f\"There are {restaurants[geo].count()[0]} restaurants in {geo}.\")\n",
    "print('\\n')\n",
    "for geo, df in attractions.items():\n",
    "    print(f\"There are {attractions[geo].count()[0]} attractions in {geo}.\")\n",
    "\n",
    "    \n",
    "display(attractions['manhattan'])\n",
    "display(restaurants['paris'])"
   ]
  },
  {
   "attachments": {},
   "cell_type": "markdown",
   "metadata": {},
   "source": [
    "We can see yelp ratings are based on a 0 to 5 star scale in 0.5 increments."
   ]
  },
  {
   "cell_type": "code",
   "execution_count": 81,
   "metadata": {},
   "outputs": [
    {
     "data": {
      "text/html": [
       "<div>\n",
       "<style scoped>\n",
       "    .dataframe tbody tr th:only-of-type {\n",
       "        vertical-align: middle;\n",
       "    }\n",
       "\n",
       "    .dataframe tbody tr th {\n",
       "        vertical-align: top;\n",
       "    }\n",
       "\n",
       "    .dataframe thead th {\n",
       "        text-align: right;\n",
       "    }\n",
       "</style>\n",
       "<table border=\"1\" class=\"dataframe\">\n",
       "  <thead>\n",
       "    <tr style=\"text-align: right;\">\n",
       "      <th></th>\n",
       "      <th>rating</th>\n",
       "    </tr>\n",
       "  </thead>\n",
       "  <tbody>\n",
       "    <tr>\n",
       "      <th>1293</th>\n",
       "      <td>0.0</td>\n",
       "    </tr>\n",
       "    <tr>\n",
       "      <th>1282</th>\n",
       "      <td>1.0</td>\n",
       "    </tr>\n",
       "    <tr>\n",
       "      <th>1259</th>\n",
       "      <td>1.5</td>\n",
       "    </tr>\n",
       "    <tr>\n",
       "      <th>1365</th>\n",
       "      <td>2.0</td>\n",
       "    </tr>\n",
       "    <tr>\n",
       "      <th>278</th>\n",
       "      <td>2.5</td>\n",
       "    </tr>\n",
       "    <tr>\n",
       "      <th>119</th>\n",
       "      <td>3.0</td>\n",
       "    </tr>\n",
       "    <tr>\n",
       "      <th>38</th>\n",
       "      <td>3.5</td>\n",
       "    </tr>\n",
       "    <tr>\n",
       "      <th>3</th>\n",
       "      <td>4.0</td>\n",
       "    </tr>\n",
       "    <tr>\n",
       "      <th>0</th>\n",
       "      <td>4.5</td>\n",
       "    </tr>\n",
       "    <tr>\n",
       "      <th>7</th>\n",
       "      <td>5.0</td>\n",
       "    </tr>\n",
       "  </tbody>\n",
       "</table>\n",
       "</div>"
      ],
      "text/plain": [
       "      rating\n",
       "1293     0.0\n",
       "1282     1.0\n",
       "1259     1.5\n",
       "1365     2.0\n",
       "278      2.5\n",
       "119      3.0\n",
       "38       3.5\n",
       "3        4.0\n",
       "0        4.5\n",
       "7        5.0"
      ]
     },
     "execution_count": 81,
     "metadata": {},
     "output_type": "execute_result"
    }
   ],
   "source": [
    "pd.options.display.max_rows=10\n",
    "ratings=nycp[['rating']].drop_duplicates().sort_values(by=['rating'])\n",
    "ratings"
   ]
  },
  {
   "attachments": {},
   "cell_type": "markdown",
   "metadata": {},
   "source": [
    "Since yelp returns all businesses in an area, some of the \"attractions\" are not exactly what we're going for. Let's do some manual cleanup with an excluded category list of words and a regex filter."
   ]
  },
  {
   "cell_type": "code",
   "execution_count": 82,
   "metadata": {},
   "outputs": [
    {
     "data": {
      "text/plain": [
       "4739"
      ]
     },
     "metadata": {},
     "output_type": "display_data"
    },
    {
     "data": {
      "text/plain": [
       "4661"
      ]
     },
     "execution_count": 82,
     "metadata": {},
     "output_type": "execute_result"
    }
   ],
   "source": [
    "import re\n",
    "\n",
    "display(nycp.id.count())\n",
    "\n",
    "excluded_categories = ['Alternative','Book','Coach','Store','Grocer''Cosmetic','Psychic','Supernatural','Astrology','Palm','Reader','Reading','Fortune','Tarot','Medium','Reiki','Massage','Graffiti'] \n",
    "pattern = '|'.join(map(re.escape, excluded_categories))\n",
    "nycp_norm = nycp[~nycp.categories.str.contains(pattern)]\n",
    "nycp_norm = nycp[~nycp.name.str.contains(pattern)]\n",
    "\n",
    "nycp_norm.id.count()"
   ]
  },
  {
   "attachments": {},
   "cell_type": "markdown",
   "metadata": {},
   "source": [
    "This seemed to work well on the nycp dataframe (that includes all yelp returns for all cities), so let's do the same on the geo-specific dataframes and also get only the top rated places as ones that would likely draw renters to an airbnb or cause them to experience the area more positively when they are rating that airbnb listing."
   ]
  },
  {
   "cell_type": "code",
   "execution_count": 83,
   "metadata": {},
   "outputs": [
    {
     "data": {
      "text/plain": [
       "name                    rating\n",
       "11 Tigers               4.0       1\n",
       "Philip Klipper          5.0       1\n",
       "Piatto                  4.0       1\n",
       "Piccola Cucina Osteria  4.5       1\n",
       "Piccola Cucina Uptown   4.5       1\n",
       "                                 ..\n",
       "Harlem Nights Bar       4.0       1\n",
       "Harlem Public           4.0       1\n",
       "Harlem Seafood Soul     4.0       1\n",
       "Harlem Stage Gatehouse  4.5       1\n",
       "yasouvlaki              4.0       1\n",
       "Length: 990, dtype: int64"
      ]
     },
     "execution_count": 83,
     "metadata": {},
     "output_type": "execute_result"
    }
   ],
   "source": [
    "excluded_categories = ['Alternative', 'Book', 'Coach', 'Store', 'Grocer', 'Cosmetic', 'Psychic', 'Supernatural', 'Astrology', 'Palm', 'Reader', 'Reading', 'Fortune', 'Tarot', 'Medium', 'Reiki', 'Massage','Graffiti']\n",
    "pattern = '|'.join(map(re.escape, excluded_categories))\n",
    "\n",
    "nycp_filtered = {geo: df[~(df.categories.str.contains(pattern) | df.name.str.contains(pattern))] for geo, df in geo_groups.items()}\n",
    "\n",
    "top_rated = {geo: df[df['rating'] >= 4][['name', 'rating']].drop_duplicates() for geo, df in nycp_filtered.items()}\n",
    "\n",
    "top_rated['manhattan'].value_counts()"
   ]
  },
  {
   "attachments": {},
   "cell_type": "markdown",
   "metadata": {},
   "source": [
    "Finally, let's merge the top rated yelp businesses with the dataframe containing their coordinates on matching business name."
   ]
  },
  {
   "cell_type": "code",
   "execution_count": 84,
   "metadata": {},
   "outputs": [
    {
     "data": {
      "text/html": [
       "<div>\n",
       "<style scoped>\n",
       "    .dataframe tbody tr th:only-of-type {\n",
       "        vertical-align: middle;\n",
       "    }\n",
       "\n",
       "    .dataframe tbody tr th {\n",
       "        vertical-align: top;\n",
       "    }\n",
       "\n",
       "    .dataframe thead th {\n",
       "        text-align: right;\n",
       "    }\n",
       "</style>\n",
       "<table border=\"1\" class=\"dataframe\">\n",
       "  <thead>\n",
       "    <tr style=\"text-align: right;\">\n",
       "      <th></th>\n",
       "      <th>name</th>\n",
       "      <th>rating</th>\n",
       "      <th>coordinates.latitude</th>\n",
       "      <th>coordinates.longitude</th>\n",
       "    </tr>\n",
       "  </thead>\n",
       "  <tbody>\n",
       "    <tr>\n",
       "      <th>0</th>\n",
       "      <td>Le Comptoir de la Gastronomie</td>\n",
       "      <td>4.5</td>\n",
       "      <td>48.864516</td>\n",
       "      <td>2.345402</td>\n",
       "    </tr>\n",
       "    <tr>\n",
       "      <th>1</th>\n",
       "      <td>Bistro des Augustins</td>\n",
       "      <td>4.5</td>\n",
       "      <td>48.854754</td>\n",
       "      <td>2.342119</td>\n",
       "    </tr>\n",
       "    <tr>\n",
       "      <th>2</th>\n",
       "      <td>Les Antiquaires</td>\n",
       "      <td>4.5</td>\n",
       "      <td>48.858066</td>\n",
       "      <td>2.328237</td>\n",
       "    </tr>\n",
       "    <tr>\n",
       "      <th>3</th>\n",
       "      <td>L'Avant Comptoir</td>\n",
       "      <td>4.5</td>\n",
       "      <td>48.852020</td>\n",
       "      <td>2.338800</td>\n",
       "    </tr>\n",
       "    <tr>\n",
       "      <th>4</th>\n",
       "      <td>La Cordonnerie</td>\n",
       "      <td>4.5</td>\n",
       "      <td>48.865430</td>\n",
       "      <td>2.332370</td>\n",
       "    </tr>\n",
       "    <tr>\n",
       "      <th>...</th>\n",
       "      <td>...</td>\n",
       "      <td>...</td>\n",
       "      <td>...</td>\n",
       "      <td>...</td>\n",
       "    </tr>\n",
       "    <tr>\n",
       "      <th>731</th>\n",
       "      <td>Zorba</td>\n",
       "      <td>4.0</td>\n",
       "      <td>48.872000</td>\n",
       "      <td>2.376750</td>\n",
       "    </tr>\n",
       "    <tr>\n",
       "      <th>732</th>\n",
       "      <td>Salle principale</td>\n",
       "      <td>4.0</td>\n",
       "      <td>48.889387</td>\n",
       "      <td>2.384225</td>\n",
       "    </tr>\n",
       "    <tr>\n",
       "      <th>733</th>\n",
       "      <td>Le Bizart</td>\n",
       "      <td>4.5</td>\n",
       "      <td>48.851250</td>\n",
       "      <td>2.389920</td>\n",
       "    </tr>\n",
       "    <tr>\n",
       "      <th>734</th>\n",
       "      <td>La Comédia</td>\n",
       "      <td>4.0</td>\n",
       "      <td>48.857790</td>\n",
       "      <td>2.388860</td>\n",
       "    </tr>\n",
       "    <tr>\n",
       "      <th>735</th>\n",
       "      <td>Café de la Réunion</td>\n",
       "      <td>4.0</td>\n",
       "      <td>48.857379</td>\n",
       "      <td>2.399084</td>\n",
       "    </tr>\n",
       "  </tbody>\n",
       "</table>\n",
       "<p>736 rows × 4 columns</p>\n",
       "</div>"
      ],
      "text/plain": [
       "                              name  rating  coordinates.latitude  \\\n",
       "0    Le Comptoir de la Gastronomie     4.5             48.864516   \n",
       "1             Bistro des Augustins     4.5             48.854754   \n",
       "2                  Les Antiquaires     4.5             48.858066   \n",
       "3                 L'Avant Comptoir     4.5             48.852020   \n",
       "4                   La Cordonnerie     4.5             48.865430   \n",
       "..                             ...     ...                   ...   \n",
       "731                          Zorba     4.0             48.872000   \n",
       "732               Salle principale     4.0             48.889387   \n",
       "733                      Le Bizart     4.5             48.851250   \n",
       "734                     La Comédia     4.0             48.857790   \n",
       "735             Café de la Réunion     4.0             48.857379   \n",
       "\n",
       "     coordinates.longitude  \n",
       "0                 2.345402  \n",
       "1                 2.342119  \n",
       "2                 2.328237  \n",
       "3                 2.338800  \n",
       "4                 2.332370  \n",
       "..                     ...  \n",
       "731               2.376750  \n",
       "732               2.384225  \n",
       "733               2.389920  \n",
       "734               2.388860  \n",
       "735               2.399084  \n",
       "\n",
       "[736 rows x 4 columns]"
      ]
     },
     "execution_count": 84,
     "metadata": {},
     "output_type": "execute_result"
    }
   ],
   "source": [
    "top_rated_loc = {geo: pd.merge(top_rated[geo], coords[geo], on='name') for geo in geo_groups.keys()}\n",
    "top_rated_loc['paris']\n",
    "# .value_counts()\n"
   ]
  },
  {
   "attachments": {},
   "cell_type": "markdown",
   "metadata": {},
   "source": [
    "I'll just store this final output for use in another notebook."
   ]
  },
  {
   "cell_type": "code",
   "execution_count": 85,
   "metadata": {},
   "outputs": [
    {
     "name": "stdout",
     "output_type": "stream",
     "text": [
      "Stored 'top_rated_loc' (dict)\n"
     ]
    }
   ],
   "source": [
    "%store top_rated_loc"
   ]
  }
 ],
 "metadata": {
  "kernelspec": {
   "display_name": "base",
   "language": "python",
   "name": "python3"
  },
  "language_info": {
   "codemirror_mode": {
    "name": "ipython",
    "version": 3
   },
   "file_extension": ".py",
   "mimetype": "text/x-python",
   "name": "python",
   "nbconvert_exporter": "python",
   "pygments_lexer": "ipython3",
   "version": "3.10.9"
  },
  "orig_nbformat": 4
 },
 "nbformat": 4,
 "nbformat_minor": 2
}
