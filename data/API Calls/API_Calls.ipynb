{
 "cells": [
  {
   "attachments": {},
   "cell_type": "markdown",
   "metadata": {},
   "source": [
    "## Yelp API Calls"
   ]
  },
  {
   "attachments": {},
   "cell_type": "markdown",
   "metadata": {},
   "source": [
    "The API calls are being used to gather restaurant and attraction information for the 5 boroughs of New York City (Manhatten, Staten Island, the Bronx, Queens, and Brooklyn) and Paris. "
   ]
  },
  {
   "attachments": {},
   "cell_type": "markdown",
   "metadata": {},
   "source": [
    "Imports"
   ]
  },
  {
   "cell_type": "code",
   "execution_count": 1,
   "metadata": {},
   "outputs": [],
   "source": [
    "import pandas as pd\n",
    "import requests\n",
    "import json\n",
    "import time\n",
    "from config import api_key\n",
    "from config import client_id\n",
    "\n",
    "pd.set_option('display.max_columns', None)\n",
    "pd.set_option('display.max_colwidth', None)"
   ]
  },
  {
   "attachments": {},
   "cell_type": "markdown",
   "metadata": {},
   "source": [
    "Yelp API key and parameter informations"
   ]
  },
  {
   "cell_type": "code",
   "execution_count": 2,
   "metadata": {},
   "outputs": [],
   "source": [
    "client_id = {'your client ID here'}\n",
    "\n",
    "api_key ={'Your API Key here'}\n",
    "\n",
    "endpoint = 'https://api.yelp.com/v3/businesses/search'\n",
    "\n",
    "headers = {'Authorization':'bearer %s' % api_key}\n",
    "\n",
    "restaurant_params = {\n",
    "    'term' : 'restaurant',\n",
    "    'limit' : 50,\n",
    "    'radius' : 5000,\n",
    "    'location' : None\n",
    "}\n",
    "attraction_params = {\n",
    "    'term' : 'Arts & Entertainment',\n",
    "    # 'attraction',\n",
    "    'limit' : 50,\n",
    "    # 'radius' : 5000,\n",
    "    'location' : None\n",
    "}"
   ]
  },
  {
   "attachments": {},
   "cell_type": "markdown",
   "metadata": {},
   "source": [
    "Zip Codes\n",
    "\n",
    "The Paris zip codes are a string to ensure data from Paris comes back and not zip codes from the US"
   ]
  },
  {
   "cell_type": "code",
   "execution_count": 3,
   "metadata": {},
   "outputs": [],
   "source": [
    "manhattan = [10031, 10032, 10033, 10034, 10040, 10026, 10027, 10030, 10037, 10039, 10029, 10035, 10023, 10024, 10025, 10021, 10028, 10044, 10065, 10075, 10128, 10001, 10011, 10018, 10019, 10020, 10036, 10010, 10016, 10017, 10022, 10012, 10013, 10014, 10002, 10003, 10009, 10004, 10005, 10006, 10007, 10038, 10280] \n",
    "staten_island = [10302, 10303, 10310, 10306, 10307, 10308, 10309, 10312, 10301, 10304, 10305, 10314] \n",
    "bronx =[10463, 10471, 10466, 10469, 10470, 10475, 10453, 10457, 10460, 10458, 10467, 10468, 10461, 10462, 10464, 10465, 10472, 10473, 10451, 10452, 10456, 10454, 10455, 10459, 10474] \n",
    "queens =[11101, 11102, 11103, 11104, 11105, 11106, 11368, 11369, 11370, 11372, 11373, 11377, 11378, 11354, 11355, 11356, 11357, 11358, 11359, 11360, 11361, 11362, 11363, 11364, 11374, 11375, 11379, 11385, 11365, 11366, 11367, 11414, 11415, 11416, 11417, 11418, 11419, 11420, 11421, 11412, 11423, 11432, 11433, 11434, 11435, 11436, 11004, 11005, 11411, 11413, 11422, 11426, 11427, 11428, 11429, 11691, 11692, 11693, 11694, 11695, 11697] \n",
    "brooklyn =[11211, 11222, 11201, 11205, 11215, 11217, 11231, 11212, 11213, 11216, 11233, 11238, 11207, 11208, 11220, 11232, 11209, 11214, 11228, 11204, 11218, 11219, 11230, 11234, 11236, 11239, 11223, 11224, 11229, 11235, 11203, 11210, 11225, 11226, 11206, 11221, 11237] \n",
    "paris=['Paris,75001', 'Paris,75002', 'Paris,75003', 'Paris,75004', 'Paris,75005', 'Paris,75006', 'Paris,75007', 'Paris,75008', 'Paris,75009', 'Paris,75010', 'Paris,75011', 'Paris,75012', 'Paris,75013', 'Paris,75014', 'Paris,75015', 'Paris,75016', 'Paris,75116', 'Paris,75017', 'Paris,75018', 'Paris,75019', 'Paris,75020']"
   ]
  },
  {
   "attachments": {},
   "cell_type": "markdown",
   "metadata": {},
   "source": [
    "## API Calls\n",
    "\n",
    "The following are the API calls for the Staten Island zip codes in the order:\n",
    "\n",
    "- Restaurant API call\n",
    "- Attraction API call\n",
    "\n",
    "After each call the list that is returned is transformed into a JSON as well as a DataFrame to ensure the correct information has come back\n",
    "\n",
    "*There will be duplicated restaurants that come back in each call. These will be addressed when we read in the data to perform our EDA"
   ]
  },
  {
   "attachments": {},
   "cell_type": "markdown",
   "metadata": {},
   "source": [
    "Staten Island Restaurant Call"
   ]
  },
  {
   "cell_type": "code",
   "execution_count": 4,
   "metadata": {},
   "outputs": [],
   "source": [
    "all_si_rest_data = []\n",
    "for zip in staten_island:\n",
    "    try:\n",
    "        restaurant_params['location'] = zip\n",
    "        response_si= requests.get(url = endpoint,\n",
    "                                  params= restaurant_params,\n",
    "                                  headers = headers)\n",
    "        if response_si.status_code == 200:\n",
    "            si_data = response_si.json()\n",
    "            all_si_rest_data.append(si_data)\n",
    "\n",
    "        else:\n",
    "            print(f'API request failed with {response_si.status_code}')\n",
    "\n",
    "        time.sleep(10)\n",
    "    except requests.exceptions.RequestException as e:\n",
    "        print(f'API request failed {str(e)}')"
   ]
  },
  {
   "cell_type": "code",
   "execution_count": 5,
   "metadata": {},
   "outputs": [],
   "source": [
    "all_si_rest_data = json.dumps(all_si_rest_data)"
   ]
  },
  {
   "cell_type": "code",
   "execution_count": 6,
   "metadata": {},
   "outputs": [],
   "source": [
    "si_rest_df = pd.json_normalize(json.loads(all_si_rest_data), 'businesses', meta=['total', 'region'])"
   ]
  },
  {
   "cell_type": "code",
   "execution_count": 7,
   "metadata": {},
   "outputs": [],
   "source": [
    "# si_rest_df.head(5)"
   ]
  },
  {
   "cell_type": "code",
   "execution_count": 8,
   "metadata": {},
   "outputs": [],
   "source": [
    "# Used for checking Duplicates\n",
    "# si_rest_df.duplicated(subset=['name']).value_counts()"
   ]
  },
  {
   "attachments": {},
   "cell_type": "markdown",
   "metadata": {},
   "source": [
    "Attraction Call"
   ]
  },
  {
   "cell_type": "code",
   "execution_count": 9,
   "metadata": {},
   "outputs": [],
   "source": [
    "all_si_attract_data = []\n",
    "for zip in staten_island:\n",
    "    try:\n",
    "        attraction_params['location'] = zip\n",
    "        response_si_attract= requests.get(url = endpoint,\n",
    "                                  params= attraction_params,\n",
    "                                  headers = headers)\n",
    "        if response_si_attract.status_code == 200:\n",
    "            si_data_attract = response_si_attract.json()\n",
    "            all_si_attract_data.append(si_data_attract)\n",
    "\n",
    "        else:\n",
    "            print(f'API request failed with {response_si_attract.status_code}')\n",
    "\n",
    "        time.sleep(10)\n",
    "    except requests.exceptions.RequestException as e:\n",
    "        print(f'API request failed {str(e)}')"
   ]
  },
  {
   "cell_type": "code",
   "execution_count": 10,
   "metadata": {},
   "outputs": [],
   "source": [
    "all_si_attract_data = json.dumps(all_si_attract_data)\n",
    "\n",
    "si_attract_df = pd.json_normalize(json.loads(all_si_attract_data), 'businesses', meta=['total', 'region'])"
   ]
  },
  {
   "cell_type": "code",
   "execution_count": 11,
   "metadata": {},
   "outputs": [
    {
     "data": {
      "text/plain": [
       "True     389\n",
       "False    211\n",
       "dtype: int64"
      ]
     },
     "execution_count": 11,
     "metadata": {},
     "output_type": "execute_result"
    }
   ],
   "source": [
    "# si_attract_df.tail(5)\n",
    "\n",
    "# Used for checking Duplicates\n",
    "si_attract_df.duplicated(subset=['name']).value_counts()"
   ]
  },
  {
   "attachments": {},
   "cell_type": "markdown",
   "metadata": {},
   "source": [
    "Manhatten Restaurant Call"
   ]
  },
  {
   "cell_type": "code",
   "execution_count": 13,
   "metadata": {},
   "outputs": [],
   "source": [
    "all_man_rest_data = []\n",
    "for zip in manhattan:\n",
    "    try:\n",
    "        restaurant_params['location'] = zip\n",
    "        response_man= requests.get(url = endpoint,\n",
    "                                  params= restaurant_params,\n",
    "                                  headers = headers)\n",
    "        if response_man.status_code == 200:\n",
    "            man_data = response_man.json()\n",
    "            all_man_rest_data.append(man_data)\n",
    "\n",
    "        else:\n",
    "            print(f'API request failed with {response_man.status_code}')\n",
    "\n",
    "        time.sleep(10)\n",
    "    except requests.exceptions.RequestException as e:\n",
    "        print(f'API request failed {str(e)}')"
   ]
  },
  {
   "cell_type": "code",
   "execution_count": 14,
   "metadata": {},
   "outputs": [],
   "source": [
    "# Sanity Check\n",
    "# all_man_rest_data"
   ]
  },
  {
   "cell_type": "code",
   "execution_count": 15,
   "metadata": {},
   "outputs": [],
   "source": [
    "all_man_rest_data = json.dumps(all_man_rest_data)\n",
    "\n",
    "man_rest_df = pd.json_normalize(json.loads(all_man_rest_data), 'businesses', meta=['total', 'region'])"
   ]
  },
  {
   "cell_type": "code",
   "execution_count": 16,
   "metadata": {},
   "outputs": [
    {
     "data": {
      "text/plain": [
       "True     1492\n",
       "False     658\n",
       "dtype: int64"
      ]
     },
     "execution_count": 16,
     "metadata": {},
     "output_type": "execute_result"
    }
   ],
   "source": [
    "# man_rest_df.head(5)\n",
    "\n",
    "# Used for checking Duplicates\n",
    "man_rest_df.duplicated(subset=['name']).value_counts()"
   ]
  },
  {
   "attachments": {},
   "cell_type": "markdown",
   "metadata": {},
   "source": [
    "Manhatten Attraction Call"
   ]
  },
  {
   "cell_type": "code",
   "execution_count": 17,
   "metadata": {},
   "outputs": [],
   "source": [
    "all_man_attract_data = []\n",
    "for zip in manhattan:\n",
    "    try:\n",
    "        attraction_params['location'] = zip\n",
    "        response_man_attract= requests.get(url = endpoint,\n",
    "                                  params= attraction_params,\n",
    "                                  headers = headers)\n",
    "        if response_man_attract.status_code == 200:\n",
    "            man_data_attract = response_man_attract.json()\n",
    "            all_man_attract_data.append(man_data_attract)\n",
    "\n",
    "        else:\n",
    "            print(f'API request failed with {response_man_attract.status_code}')\n",
    "\n",
    "        time.sleep(10)\n",
    "    except requests.exceptions.RequestException as e:\n",
    "        print(f'API request failed {str(e)}')"
   ]
  },
  {
   "cell_type": "code",
   "execution_count": 18,
   "metadata": {},
   "outputs": [],
   "source": [
    "all_man_attract_data = json.dumps(all_man_attract_data)\n",
    "\n",
    "man_attract_df = pd.json_normalize(json.loads(all_man_attract_data), 'businesses', meta=['total', 'region'])"
   ]
  },
  {
   "cell_type": "code",
   "execution_count": 19,
   "metadata": {},
   "outputs": [],
   "source": [
    "# man_attract_df.head(5)\n",
    "\n",
    "# Used for checking Duplicates\n",
    "# man_attract_df.duplicated(subset=['name']).value_counts()"
   ]
  },
  {
   "attachments": {},
   "cell_type": "markdown",
   "metadata": {},
   "source": [
    "Bronx Restaurant Call"
   ]
  },
  {
   "cell_type": "code",
   "execution_count": 20,
   "metadata": {},
   "outputs": [],
   "source": [
    "all_bronx_rest_data = []\n",
    "for zip in bronx:\n",
    "    try:\n",
    "        restaurant_params['location'] = zip\n",
    "        response_bronx= requests.get(url = endpoint,\n",
    "                                  params= restaurant_params,\n",
    "                                  headers = headers)\n",
    "        if response_bronx.status_code == 200:\n",
    "            bronx_data = response_bronx.json()\n",
    "            all_bronx_rest_data.append(bronx_data)\n",
    "\n",
    "        else:\n",
    "            print(f'API request failed with {response_bronx.status_code}')\n",
    "\n",
    "        time.sleep(10)\n",
    "    except requests.exceptions.RequestException as e:\n",
    "        print(f'API request failed {str(e)}')"
   ]
  },
  {
   "cell_type": "code",
   "execution_count": 21,
   "metadata": {},
   "outputs": [],
   "source": [
    "all_bronx_rest_data = json.dumps(all_bronx_rest_data)\n",
    "\n",
    "bronx_rest_df = pd.json_normalize(json.loads(all_bronx_rest_data), 'businesses', meta=['total', 'region'])"
   ]
  },
  {
   "cell_type": "code",
   "execution_count": 22,
   "metadata": {},
   "outputs": [],
   "source": [
    "# bronx_rest_df.head(5)\n",
    "\n",
    "# Used for checking Duplicates\n",
    "# bronx_rest_df.duplicated(subset=['name']).value_counts()"
   ]
  },
  {
   "attachments": {},
   "cell_type": "markdown",
   "metadata": {},
   "source": [
    "Bronx Attraction Call"
   ]
  },
  {
   "cell_type": "code",
   "execution_count": 23,
   "metadata": {},
   "outputs": [],
   "source": [
    "all_bronx_attract_data = []\n",
    "for zip in bronx:\n",
    "    try:\n",
    "        attraction_params['location'] = zip\n",
    "        response_bronx_attract= requests.get(url = endpoint,\n",
    "                                  params= attraction_params,\n",
    "                                  headers = headers)\n",
    "        if response_bronx_attract.status_code == 200:\n",
    "            bronx_data_attract = response_bronx_attract.json()\n",
    "            all_bronx_attract_data.append(bronx_data_attract)\n",
    "\n",
    "        else:\n",
    "            print(f'API request failed with {response_bronx_attract.status_code}')\n",
    "\n",
    "        time.sleep(10)\n",
    "    except requests.exceptions.RequestException as e:\n",
    "        print(f'API request failed {str(e)}')"
   ]
  },
  {
   "cell_type": "code",
   "execution_count": 24,
   "metadata": {},
   "outputs": [],
   "source": [
    "all_bronx_attract_data = json.dumps(all_bronx_attract_data)\n",
    "\n",
    "bronx_attract_df = pd.json_normalize(json.loads(all_bronx_attract_data), 'businesses', meta=['total', 'region'])"
   ]
  },
  {
   "cell_type": "code",
   "execution_count": 25,
   "metadata": {},
   "outputs": [],
   "source": [
    "# bronx_attract_df.head(5)\n",
    "\n",
    "# Used for checking Duplicates\n",
    "# bronx_attract_df.duplicated(subset=['name']).value_counts()"
   ]
  },
  {
   "attachments": {},
   "cell_type": "markdown",
   "metadata": {},
   "source": [
    "Queens Restaurant Call\n"
   ]
  },
  {
   "cell_type": "code",
   "execution_count": 26,
   "metadata": {},
   "outputs": [],
   "source": [
    "all_queens_rest_data = []\n",
    "for zip in queens:\n",
    "    try:\n",
    "        restaurant_params['location'] = zip\n",
    "        response_queens= requests.get(url = endpoint,\n",
    "                                  params= restaurant_params,\n",
    "                                  headers = headers)\n",
    "        if response_queens.status_code == 200:\n",
    "            queens_data = response_queens.json()\n",
    "            all_queens_rest_data.append(queens_data)\n",
    "\n",
    "        else:\n",
    "            print(f'API request failed with {response_queens.status_code}')\n",
    "\n",
    "        time.sleep(10)\n",
    "    except requests.exceptions.RequestException as e:\n",
    "        print(f'API request failed {str(e)}')"
   ]
  },
  {
   "cell_type": "code",
   "execution_count": 27,
   "metadata": {},
   "outputs": [],
   "source": [
    "all_queens_rest_data = json.dumps(all_queens_rest_data)\n",
    "\n",
    "queens_rest_df = pd.json_normalize(json.loads(all_queens_rest_data), 'businesses', meta=['total', 'region'])"
   ]
  },
  {
   "cell_type": "code",
   "execution_count": 28,
   "metadata": {},
   "outputs": [],
   "source": [
    "# queens_rest_df.head(5)\n",
    "\n",
    "# Used for checking Duplicates\n",
    "# queens_rest_df.duplicated(subset=['name']).value_counts()"
   ]
  },
  {
   "attachments": {},
   "cell_type": "markdown",
   "metadata": {},
   "source": [
    "Queens Attraction Call"
   ]
  },
  {
   "cell_type": "code",
   "execution_count": 29,
   "metadata": {},
   "outputs": [],
   "source": [
    "all_queens_attract_data = []\n",
    "for zip in queens:\n",
    "    try:\n",
    "        attraction_params['location'] = zip\n",
    "        response_queens_attract= requests.get(url = endpoint,\n",
    "                                  params= attraction_params,\n",
    "                                  headers = headers)\n",
    "        if response_queens_attract.status_code == 200:\n",
    "            queens_data_attract = response_queens_attract.json()\n",
    "            all_queens_attract_data.append(queens_data_attract)\n",
    "\n",
    "        else:\n",
    "            print(f'API request failed with {response_queens_attract.status_code}')\n",
    "\n",
    "        time.sleep(10)\n",
    "    except requests.exceptions.RequestException as e:\n",
    "        print(f'API request failed {str(e)}')"
   ]
  },
  {
   "cell_type": "code",
   "execution_count": 30,
   "metadata": {},
   "outputs": [],
   "source": [
    "all_queens_attract_data = json.dumps(all_queens_attract_data)\n",
    "\n",
    "queens_attract_df = pd.json_normalize(json.loads(all_queens_attract_data), 'businesses', meta=['total', 'region'])"
   ]
  },
  {
   "cell_type": "code",
   "execution_count": 31,
   "metadata": {},
   "outputs": [],
   "source": [
    "# queens_attract_df.tail(10)\n",
    "\n",
    "# Used for checking Duplicates\n",
    "# queens_attract_df.duplicated(subset=['name']).value_counts()"
   ]
  },
  {
   "attachments": {},
   "cell_type": "markdown",
   "metadata": {},
   "source": [
    "Brooklyn Restaurant Call"
   ]
  },
  {
   "cell_type": "code",
   "execution_count": 32,
   "metadata": {},
   "outputs": [],
   "source": [
    "all_brook_rest_data = []\n",
    "for zip in brooklyn:\n",
    "    try:\n",
    "        restaurant_params['location'] = zip\n",
    "        response_brook= requests.get(url = endpoint,\n",
    "                                  params= restaurant_params,\n",
    "                                  headers = headers)\n",
    "        if response_brook.status_code == 200:\n",
    "            brook_data = response_brook.json()\n",
    "            all_brook_rest_data.append(brook_data)\n",
    "\n",
    "        else:\n",
    "            print(f'API request failed with {response_brook.status_code}')\n",
    "\n",
    "        time.sleep(10)\n",
    "    except requests.exceptions.RequestException as e:\n",
    "        print(f'API request failed {str(e)}')"
   ]
  },
  {
   "cell_type": "code",
   "execution_count": 33,
   "metadata": {},
   "outputs": [],
   "source": [
    "all_brook_rest_data = json.dumps(all_brook_rest_data)\n",
    "\n",
    "brook_rest_df = pd.json_normalize(json.loads(all_brook_rest_data), 'businesses', meta=['total', 'region'])"
   ]
  },
  {
   "cell_type": "code",
   "execution_count": 34,
   "metadata": {},
   "outputs": [],
   "source": [
    "# brook_rest_df.head(5)\n",
    "\n",
    "# Used for checking Duplicates\n",
    "# brook_rest_df.duplicated(subset=['name']).value_counts()"
   ]
  },
  {
   "attachments": {},
   "cell_type": "markdown",
   "metadata": {},
   "source": [
    "Brooklyn Attraction Call"
   ]
  },
  {
   "cell_type": "code",
   "execution_count": 35,
   "metadata": {},
   "outputs": [],
   "source": [
    "all_brook_attract_data = []\n",
    "for zip in brooklyn:\n",
    "    try:\n",
    "        attraction_params['location'] = zip\n",
    "        response_brook_attract= requests.get(url = endpoint,\n",
    "                                  params= attraction_params,\n",
    "                                  headers = headers)\n",
    "        if response_brook_attract.status_code == 200:\n",
    "            brook_data_attract = response_brook_attract.json()\n",
    "            all_brook_attract_data.append(brook_data_attract)\n",
    "\n",
    "        else:\n",
    "            print(f'API request failed with {response_brook_attract.status_code}')\n",
    "\n",
    "        time.sleep(10)\n",
    "    except requests.exceptions.RequestException as e:\n",
    "        print(f'API request failed {str(e)}')"
   ]
  },
  {
   "cell_type": "code",
   "execution_count": 36,
   "metadata": {},
   "outputs": [],
   "source": [
    "all_brook_attract_data = json.dumps(all_brook_attract_data)\n",
    "\n",
    "brook_attract_df = pd.json_normalize(json.loads(all_brook_attract_data), 'businesses', meta=['total', 'region'])"
   ]
  },
  {
   "cell_type": "code",
   "execution_count": 37,
   "metadata": {},
   "outputs": [],
   "source": [
    "# brook_attract_df.head(5)\n",
    "\n",
    "# Used for checking Duplicates\n",
    "# brook_attract_df.duplicated(subset=['name']).value_counts()"
   ]
  },
  {
   "attachments": {},
   "cell_type": "markdown",
   "metadata": {},
   "source": [
    "Paris Restaurant Call"
   ]
  },
  {
   "cell_type": "code",
   "execution_count": 38,
   "metadata": {},
   "outputs": [],
   "source": [
    "all_paris_rest_data = []\n",
    "for zip in paris:\n",
    "    try:\n",
    "        restaurant_params['location'] = zip\n",
    "        response_paris= requests.get(url = endpoint,\n",
    "                                  params= restaurant_params,\n",
    "                                  headers = headers)\n",
    "        if response_paris.status_code == 200:\n",
    "            paris_data = response_paris.json()\n",
    "            all_paris_rest_data.append(paris_data)\n",
    "\n",
    "        else:\n",
    "            print(f'API request failed with {response_paris.status_code}')\n",
    "\n",
    "        time.sleep(10)\n",
    "    except requests.exceptions.RequestException as e:\n",
    "        print(f'API request failed {str(e)}')"
   ]
  },
  {
   "cell_type": "code",
   "execution_count": 39,
   "metadata": {},
   "outputs": [],
   "source": [
    "# all_paris_rest_data"
   ]
  },
  {
   "cell_type": "code",
   "execution_count": 40,
   "metadata": {},
   "outputs": [],
   "source": [
    "all_paris_rest_data = json.dumps(all_paris_rest_data)\n",
    "\n",
    "paris_rest_df = pd.json_normalize(json.loads(all_paris_rest_data), 'businesses', meta=['total', 'region'])"
   ]
  },
  {
   "cell_type": "code",
   "execution_count": 41,
   "metadata": {},
   "outputs": [],
   "source": [
    "# paris_rest_df.tail(5)\n",
    "\n",
    "# Used for checking Duplicates\n",
    "# paris_rest_df.duplicated(subset=['name']).value_counts()"
   ]
  },
  {
   "attachments": {},
   "cell_type": "markdown",
   "metadata": {},
   "source": [
    "Paris Attraction Call"
   ]
  },
  {
   "cell_type": "code",
   "execution_count": 42,
   "metadata": {},
   "outputs": [],
   "source": [
    "all_paris_attract_data = []\n",
    "for zip in paris:\n",
    "    try:\n",
    "        attraction_params['location'] = zip\n",
    "        response_paris_attract= requests.get(url = endpoint,\n",
    "                                  params= attraction_params,\n",
    "                                  headers = headers)\n",
    "        if response_paris_attract.status_code == 200:\n",
    "            paris_data_attract = response_paris_attract.json()\n",
    "            all_paris_attract_data.append(paris_data_attract)\n",
    "\n",
    "        else:\n",
    "            print(f'API request failed with {response_paris_attract.status_code}')\n",
    "\n",
    "        time.sleep(10)\n",
    "    except requests.exceptions.RequestException as e:\n",
    "        print(f'API request failed {str(e)}')"
   ]
  },
  {
   "cell_type": "code",
   "execution_count": 43,
   "metadata": {},
   "outputs": [],
   "source": [
    "all_paris_attract_data = json.dumps(all_paris_attract_data)\n",
    "\n",
    "paris_attract_df = pd.json_normalize(json.loads(all_paris_attract_data), 'businesses', meta=['total', 'region'])"
   ]
  },
  {
   "cell_type": "code",
   "execution_count": 44,
   "metadata": {},
   "outputs": [],
   "source": [
    "# paris_attract_df.tail(5)\n",
    "\n",
    "# Used for checking Duplicates\n",
    "# paris_attract_df.duplicated(subset=['name']).value_counts()"
   ]
  },
  {
   "cell_type": "code",
   "execution_count": 45,
   "metadata": {},
   "outputs": [],
   "source": [
    "# paris_attract_df['name'].value_counts()"
   ]
  },
  {
   "attachments": {},
   "cell_type": "markdown",
   "metadata": {},
   "source": [
    "## Adding Columns, Concatenating the DataFrames and Saving to CSVs\n",
    "\n",
    "* A column to each Dataframe will be added to describe if the row is a restaurant or attraction\n",
    "* The restaurant and attraction DataFrame will be concatenated for each borough and Paris, leaving us with 6 DataFrames instead of 12\n",
    "* Each new DataFrame will be saved to a CSV so we can place it in our blob container and access it without having to make the API calls again"
   ]
  },
  {
   "attachments": {},
   "cell_type": "markdown",
   "metadata": {},
   "source": [
    "Adding a Column"
   ]
  },
  {
   "cell_type": "code",
   "execution_count": 46,
   "metadata": {},
   "outputs": [],
   "source": [
    "si_rest_df['Restaurant or Attraction?'] = 'Restaurant'"
   ]
  },
  {
   "cell_type": "code",
   "execution_count": 47,
   "metadata": {},
   "outputs": [],
   "source": [
    "man_rest_df['Restaurant or Attraction?'] = 'Restaurant'\n",
    "bronx_rest_df['Restaurant or Attraction?'] = 'Restaurant'\n",
    "queens_rest_df['Restaurant or Attraction?'] = 'Restaurant'\n",
    "brook_rest_df['Restaurant or Attraction?'] = 'Restaurant'\n",
    "paris_rest_df['Restaurant or Attraction?'] = 'Restaurant'"
   ]
  },
  {
   "cell_type": "code",
   "execution_count": 48,
   "metadata": {},
   "outputs": [],
   "source": [
    "si_attract_df['Restaurant or Attraction?'] = 'Attraction'\n",
    "man_attract_df['Restaurant or Attraction?'] = 'Attraction'\n",
    "bronx_attract_df['Restaurant or Attraction?'] = 'Attraction'\n",
    "queens_attract_df['Restaurant or Attraction?'] = 'Attraction'\n",
    "brook_attract_df['Restaurant or Attraction?'] = 'Attraction'\n",
    "paris_attract_df['Restaurant or Attraction?'] = 'Attraction'"
   ]
  },
  {
   "attachments": {},
   "cell_type": "markdown",
   "metadata": {},
   "source": [
    "Concatenating into one DataFrame for each location"
   ]
  },
  {
   "cell_type": "code",
   "execution_count": 49,
   "metadata": {},
   "outputs": [],
   "source": [
    "full_si = pd.concat([si_rest_df,si_attract_df])\n",
    "full_man = pd.concat([man_rest_df,man_attract_df])\n",
    "full_bronx = pd.concat([bronx_rest_df,bronx_attract_df])\n",
    "full_queens = pd.concat([queens_rest_df,queens_attract_df])\n",
    "full_brook = pd.concat([brook_rest_df,brook_attract_df])\n",
    "full_paris = pd.concat([paris_rest_df,paris_attract_df])\n"
   ]
  },
  {
   "cell_type": "code",
   "execution_count": 50,
   "metadata": {},
   "outputs": [
    {
     "data": {
      "text/plain": [
       "(2100, 27)"
      ]
     },
     "execution_count": 50,
     "metadata": {},
     "output_type": "execute_result"
    }
   ],
   "source": [
    "full_paris.shape"
   ]
  },
  {
   "attachments": {},
   "cell_type": "markdown",
   "metadata": {},
   "source": [
    "Saving into CSVs"
   ]
  },
  {
   "cell_type": "code",
   "execution_count": 51,
   "metadata": {},
   "outputs": [],
   "source": [
    "full_si.to_csv('../data/staten_island.csv')\n",
    "full_man.to_csv('../data/manhatten.csv')\n",
    "full_bronx.to_csv('../data/bronx.csv')\n",
    "full_queens.to_csv('../data/queens.csv')\n",
    "full_brook.to_csv('../data/brooklyn.csv')\n",
    "full_paris.to_csv('../data/paris.csv')"
   ]
  },
  {
   "cell_type": "code",
   "execution_count": null,
   "metadata": {},
   "outputs": [],
   "source": []
  }
 ],
 "metadata": {
  "kernelspec": {
   "display_name": "base",
   "language": "python",
   "name": "python3"
  },
  "language_info": {
   "codemirror_mode": {
    "name": "ipython",
    "version": 3
   },
   "file_extension": ".py",
   "mimetype": "text/x-python",
   "name": "python",
   "nbconvert_exporter": "python",
   "pygments_lexer": "ipython3",
   "version": "3.9.13"
  },
  "orig_nbformat": 4
 },
 "nbformat": 4,
 "nbformat_minor": 2
}
